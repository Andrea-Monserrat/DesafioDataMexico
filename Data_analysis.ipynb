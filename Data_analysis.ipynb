{
 "cells": [
  {
   "cell_type": "code",
   "execution_count": 1,
   "metadata": {},
   "outputs": [],
   "source": [
    "import os\n",
    "import pandas as pd\n",
    "import numpy as np\n",
    "import datetime"
   ]
  },
  {
   "cell_type": "markdown",
   "metadata": {},
   "source": [
    "#Costo del tratamiento en hospitales privados#"
   ]
  },
  {
   "cell_type": "code",
   "execution_count": 2,
   "metadata": {},
   "outputs": [],
   "source": [
    "csv_files = [\"Data\\Costo-total-promedio-del-tratamiento-por-paciente-en-hospital-privado_MAR20.csv\",\n",
    "         \"Data\\Costo-total-promedio-del-tratamiento-por-paciente-en-hospital-privado_ABR20.csv\",\n",
    "         \"Data\\Costo-total-promedio-del-tratamiento-por-paciente-en-hospital-privado_MAY20.csv\",\n",
    "         \"Data\\Costo-total-promedio-del-tratamiento-por-paciente-en-hospital-privado_JUN20.csv\",\n",
    "         \"Data\\Costo-total-promedio-del-tratamiento-por-paciente-en-hospital-privado_JUL20.csv\",\n",
    "         \"Data\\Costo-total-promedio-del-tratamiento-por-paciente-en-hospital-privado_AGO20.csv\",\n",
    "         \"Data\\Costo-total-promedio-del-tratamiento-por-paciente-en-hospital-privado_SEP20.csv\",\n",
    "         \"Data\\Costo-total-promedio-del-tratamiento-por-paciente-en-hospital-privado_OCT20.csv\",\n",
    "         \"Data\\Costo-total-promedio-del-tratamiento-por-paciente-en-hospital-privado_NOV20.csv\",\n",
    "         \"Data\\Costo-total-promedio-del-tratamiento-por-paciente-en-hospital-privado_DIC20.csv\",\n",
    "         \"Data\\Costo-total-promedio-del-tratamiento-por-paciente-en-hospital-privado_ENE21.csv\",\n",
    "         \"Data\\Costo-total-promedio-del-tratamiento-por-paciente-en-hospital-privado_FEB21.csv\",\n",
    "         \"Data\\Costo-total-promedio-del-tratamiento-por-paciente-en-hospital-privado_MAR21.csv\",\n",
    "         \"Data\\Costo-total-promedio-del-tratamiento-por-paciente-en-hospital-privado_ABR21.csv\",\n",
    "         \"Data\\Costo-total-promedio-del-tratamiento-por-paciente-en-hospital-privado_MAY21.csv\",\n",
    "         \"Data\\Costo-total-promedio-del-tratamiento-por-paciente-en-hospital-privado_JUN21.csv\",\n",
    "         \"Data\\Costo-total-promedio-del-tratamiento-por-paciente-en-hospital-privado_JUL21.csv\"]"
   ]
  },
  {
   "cell_type": "code",
   "execution_count": 3,
   "metadata": {},
   "outputs": [],
   "source": [
    "list_data = []\n",
    "for filename in csv_files:\n",
    "    data = pd.read_csv(filename)\n",
    "    list_data.append(data)\n",
    "data = pd.concat(list_data,ignore_index=True)"
   ]
  },
  {
   "cell_type": "code",
   "execution_count": 4,
   "metadata": {},
   "outputs": [
    {
     "data": {
      "text/html": [
       "<div>\n",
       "<style scoped>\n",
       "    .dataframe tbody tr th:only-of-type {\n",
       "        vertical-align: middle;\n",
       "    }\n",
       "\n",
       "    .dataframe tbody tr th {\n",
       "        vertical-align: top;\n",
       "    }\n",
       "\n",
       "    .dataframe thead th {\n",
       "        text-align: right;\n",
       "    }\n",
       "</style>\n",
       "<table border=\"1\" class=\"dataframe\">\n",
       "  <thead>\n",
       "    <tr style=\"text-align: right;\">\n",
       "      <th></th>\n",
       "      <th>State ID</th>\n",
       "      <th>State</th>\n",
       "      <th>Patient ID</th>\n",
       "      <th>Patient Treatment Days</th>\n",
       "      <th>Treatment Cost</th>\n",
       "      <th>Date</th>\n",
       "    </tr>\n",
       "  </thead>\n",
       "  <tbody>\n",
       "    <tr>\n",
       "      <th>0</th>\n",
       "      <td>8</td>\n",
       "      <td>Chihuahua</td>\n",
       "      <td>3946*</td>\n",
       "      <td>2</td>\n",
       "      <td>$45.3k MX</td>\n",
       "      <td>mar-20</td>\n",
       "    </tr>\n",
       "    <tr>\n",
       "      <th>1</th>\n",
       "      <td>15</td>\n",
       "      <td>Estado de México</td>\n",
       "      <td>3645*</td>\n",
       "      <td>10</td>\n",
       "      <td>$318k MX</td>\n",
       "      <td>mar-20</td>\n",
       "    </tr>\n",
       "    <tr>\n",
       "      <th>2</th>\n",
       "      <td>15</td>\n",
       "      <td>Estado de México</td>\n",
       "      <td>3457*</td>\n",
       "      <td>4</td>\n",
       "      <td>$95.3k MX</td>\n",
       "      <td>mar-20</td>\n",
       "    </tr>\n",
       "    <tr>\n",
       "      <th>3</th>\n",
       "      <td>15</td>\n",
       "      <td>Estado de México</td>\n",
       "      <td>3449*</td>\n",
       "      <td>9</td>\n",
       "      <td>$403k MX</td>\n",
       "      <td>mar-20</td>\n",
       "    </tr>\n",
       "    <tr>\n",
       "      <th>4</th>\n",
       "      <td>26</td>\n",
       "      <td>Sonora</td>\n",
       "      <td>1156*</td>\n",
       "      <td>7</td>\n",
       "      <td>$114k MX</td>\n",
       "      <td>mar-20</td>\n",
       "    </tr>\n",
       "  </tbody>\n",
       "</table>\n",
       "</div>"
      ],
      "text/plain": [
       "   State ID             State Patient ID  Patient Treatment Days  \\\n",
       "0         8         Chihuahua      3946*                       2   \n",
       "1        15  Estado de México      3645*                      10   \n",
       "2        15  Estado de México      3457*                       4   \n",
       "3        15  Estado de México      3449*                       9   \n",
       "4        26            Sonora      1156*                       7   \n",
       "\n",
       "  Treatment Cost    Date  \n",
       "0      $45.3k MX  mar-20  \n",
       "1       $318k MX  mar-20  \n",
       "2      $95.3k MX  mar-20  \n",
       "3       $403k MX  mar-20  \n",
       "4       $114k MX  mar-20  "
      ]
     },
     "execution_count": 4,
     "metadata": {},
     "output_type": "execute_result"
    }
   ],
   "source": [
    "data.head()\n",
    "#datos.columns.tolist()\n",
    "#data.shape[0]"
   ]
  },
  {
   "cell_type": "code",
   "execution_count": 31,
   "metadata": {},
   "outputs": [
    {
     "data": {
      "text/plain": [
       "State ID                   int64\n",
       "State                     object\n",
       "Patient ID                object\n",
       "Patient Treatment Days     int64\n",
       "Treatment Cost            object\n",
       "Date                      object\n",
       "dtype: object"
      ]
     },
     "execution_count": 31,
     "metadata": {},
     "output_type": "execute_result"
    }
   ],
   "source": [
    "data.dtypes"
   ]
  },
  {
   "cell_type": "code",
   "execution_count": 32,
   "metadata": {},
   "outputs": [
    {
     "data": {
      "text/plain": [
       "Nuevo León                         1076\n",
       "Ciudad de México                    983\n",
       "Estado de México                    471\n",
       "Sonora                              408\n",
       "Chihuahua                           344\n",
       "Jalisco                             255\n",
       "Coahuila de Zaragoza                157\n",
       "Puebla                              131\n",
       "Querétaro                           130\n",
       "Baja California                     126\n",
       "Yucatán                             116\n",
       "Veracruz de Ignacio de la Llave      91\n",
       "Sinaloa                              91\n",
       "Tabasco                              67\n",
       "Tamaulipas                           47\n",
       "Morelos                              32\n",
       "Quintana Roo                         26\n",
       "Aguascalientes                       24\n",
       "Michoacán de Ocampo                  21\n",
       "Guanajuato                           18\n",
       "San Luis Potosí                      16\n",
       "No Informado                          8\n",
       "Colima                                6\n",
       "Nayarit                               1\n",
       "Name: State, dtype: int64"
      ]
     },
     "execution_count": 32,
     "metadata": {},
     "output_type": "execute_result"
    }
   ],
   "source": [
    "data[\"State\"].value_counts()"
   ]
  },
  {
   "cell_type": "code",
   "execution_count": 41,
   "metadata": {},
   "outputs": [
    {
     "data": {
      "text/plain": [
       "'$45.3k MX'"
      ]
     },
     "execution_count": 41,
     "metadata": {},
     "output_type": "execute_result"
    }
   ],
   "source": [
    "money = data[\"Treatment Cost\"][0]\n",
    "money"
   ]
  },
  {
   "cell_type": "code",
   "execution_count": 49,
   "metadata": {},
   "outputs": [
    {
     "data": {
      "text/plain": [
       "'045.30000'"
      ]
     },
     "execution_count": 49,
     "metadata": {},
     "output_type": "execute_result"
    }
   ],
   "source": [
    "from re import sub\n",
    "from decimal import Decimal\n",
    "#import locale\n",
    "#locale.setlocale(locale.LC_ALL, 'es_MX')\n",
    "#locale.atof(money.strip(\"$\"))\n",
    "\n",
    "value = sub(r'[^\\d.]', '0', money)\n",
    "value"
   ]
  },
  {
   "cell_type": "code",
   "execution_count": 34,
   "metadata": {},
   "outputs": [
    {
     "data": {
      "text/html": [
       "<div>\n",
       "<style scoped>\n",
       "    .dataframe tbody tr th:only-of-type {\n",
       "        vertical-align: middle;\n",
       "    }\n",
       "\n",
       "    .dataframe tbody tr th {\n",
       "        vertical-align: top;\n",
       "    }\n",
       "\n",
       "    .dataframe thead th {\n",
       "        text-align: right;\n",
       "    }\n",
       "</style>\n",
       "<table border=\"1\" class=\"dataframe\">\n",
       "  <thead>\n",
       "    <tr style=\"text-align: right;\">\n",
       "      <th></th>\n",
       "      <th>State ID</th>\n",
       "      <th>Patient Treatment Days</th>\n",
       "    </tr>\n",
       "  </thead>\n",
       "  <tbody>\n",
       "    <tr>\n",
       "      <th>count</th>\n",
       "      <td>4645.000000</td>\n",
       "      <td>4645.000000</td>\n",
       "    </tr>\n",
       "    <tr>\n",
       "      <th>mean</th>\n",
       "      <td>15.944456</td>\n",
       "      <td>11.981055</td>\n",
       "    </tr>\n",
       "    <tr>\n",
       "      <th>std</th>\n",
       "      <td>7.352771</td>\n",
       "      <td>13.783630</td>\n",
       "    </tr>\n",
       "    <tr>\n",
       "      <th>min</th>\n",
       "      <td>1.000000</td>\n",
       "      <td>0.000000</td>\n",
       "    </tr>\n",
       "    <tr>\n",
       "      <th>25%</th>\n",
       "      <td>9.000000</td>\n",
       "      <td>4.000000</td>\n",
       "    </tr>\n",
       "    <tr>\n",
       "      <th>50%</th>\n",
       "      <td>15.000000</td>\n",
       "      <td>8.000000</td>\n",
       "    </tr>\n",
       "    <tr>\n",
       "      <th>75%</th>\n",
       "      <td>19.000000</td>\n",
       "      <td>15.000000</td>\n",
       "    </tr>\n",
       "    <tr>\n",
       "      <th>max</th>\n",
       "      <td>33.000000</td>\n",
       "      <td>167.000000</td>\n",
       "    </tr>\n",
       "  </tbody>\n",
       "</table>\n",
       "</div>"
      ],
      "text/plain": [
       "          State ID  Patient Treatment Days\n",
       "count  4645.000000             4645.000000\n",
       "mean     15.944456               11.981055\n",
       "std       7.352771               13.783630\n",
       "min       1.000000                0.000000\n",
       "25%       9.000000                4.000000\n",
       "50%      15.000000                8.000000\n",
       "75%      19.000000               15.000000\n",
       "max      33.000000              167.000000"
      ]
     },
     "execution_count": 34,
     "metadata": {},
     "output_type": "execute_result"
    }
   ],
   "source": [
    "stats_data = data.describe()\n",
    "stats_data"
   ]
  }
 ],
 "metadata": {
  "kernelspec": {
   "display_name": "Python 3",
   "language": "python",
   "name": "python3"
  },
  "language_info": {
   "codemirror_mode": {
    "name": "ipython",
    "version": 3
   },
   "file_extension": ".py",
   "mimetype": "text/x-python",
   "name": "python",
   "nbconvert_exporter": "python",
   "pygments_lexer": "ipython3",
   "version": "3.8.5"
  }
 },
 "nbformat": 4,
 "nbformat_minor": 4
}
